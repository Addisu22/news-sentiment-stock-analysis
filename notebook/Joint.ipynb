{
 "cells": [
  {
   "cell_type": "markdown",
   "id": "fb51f579",
   "metadata": {},
   "source": []
  },
  {
   "cell_type": "markdown",
   "id": "c0b25dad",
   "metadata": {},
   "source": [
    "Task-3"
   ]
  },
  {
   "cell_type": "code",
   "execution_count": 1,
   "id": "55f7d32d",
   "metadata": {},
   "outputs": [],
   "source": [
    "import sys\n",
    "import os\n",
    "import pandas as pd\n",
    "import numpy as np\n",
    "import nbimporter\n",
    "import matplotlib.pyplot as plt\n",
    "import seaborn as sns\n",
    "from plotly.subplots import make_subplots\n",
    "import plotly.express as px\n",
    "import plotly.graph_objects as go\n",
    "import warnings\n",
    "warnings.filterwarnings('ignore')\n",
    "sys.path.append(os.path.abspath(\"../scripts\"))"
   ]
  },
  {
   "cell_type": "code",
   "execution_count": 2,
   "id": "a59841fc",
   "metadata": {},
   "outputs": [
    {
     "name": "stdout",
     "output_type": "stream",
     "text": [
      "c:\\Users\\Belay\\news-sentiment-stock-analysis\n"
     ]
    }
   ],
   "source": [
    "os.chdir('..')  # Go up a directory\n",
    "print(os.getcwd())"
   ]
  },
  {
   "cell_type": "code",
   "execution_count": 3,
   "id": "1da654a0",
   "metadata": {},
   "outputs": [],
   "source": [
    "from joint import load_news_data, load_stock_data, align_by_date, load_news, get_sentiment_polarity, classify_sentiment, sentiment_analysis"
   ]
  },
  {
   "cell_type": "markdown",
   "id": "8a3fceaa",
   "metadata": {},
   "source": [
    "**○\tDate Alignment**"
   ]
  },
  {
   "cell_type": "code",
   "execution_count": 4,
   "id": "cbc34fa0",
   "metadata": {},
   "outputs": [
    {
     "name": "stdout",
     "output_type": "stream",
     "text": [
      "✅ Combined stock data preview:\n",
      "         Date      Open      High       Low     Close  Adj Close     Volume  \\\n",
      "0  2004-08-19  2.490664  2.591785  2.390042  2.499133   2.496292  897427216   \n",
      "1  2004-08-20  2.515820  2.716817  2.503118  2.697639   2.694573  458857488   \n",
      "2  2004-08-23  2.758411  2.826406  2.716070  2.724787   2.721690  366857939   \n",
      "3  2004-08-24  2.770615  2.779581  2.579581  2.611960   2.608991  306396159   \n",
      "4  2004-08-25  2.614201  2.689918  2.587302  2.640104   2.637103  184645512   \n",
      "\n",
      "   Dividends  Stock Splits Ticker  \n",
      "0        0.0           0.0   GOOG  \n",
      "1        0.0           0.0   GOOG  \n",
      "2        0.0           0.0   GOOG  \n",
      "3        0.0           0.0   GOOG  \n",
      "4        0.0           0.0   GOOG  \n",
      "Aligned dataset preview:\n",
      "         Date                                    headline   Adj Close\n",
      "0  2020-06-05     Stocks That Hit 52-Week Highs On Friday   71.837753\n",
      "1  2020-06-05     Stocks That Hit 52-Week Highs On Friday   80.843407\n",
      "2  2020-06-05     Stocks That Hit 52-Week Highs On Friday  230.296753\n",
      "3  2020-06-03  Stocks That Hit 52-Week Highs On Wednesday   71.737366\n",
      "4  2020-06-03  Stocks That Hit 52-Week Highs On Wednesday   79.287506\n"
     ]
    }
   ],
   "source": [
    "# Function to align news and stock datasets\n",
    "news_path = 'Data/raw_analyst_ratings.csv'\n",
    "# Load individual stock files\n",
    "google_df = load_stock_data(\"Data/GOOG.csv\", ticker_name=\"GOOG\")\n",
    "aapl_df = load_stock_data(\"Data/AAPL.csv\", ticker_name=\"AAPL\")\n",
    "meta_df = load_stock_data(\"Data/META.csv\", ticker_name=\"META\")\n",
    "msft_df = load_stock_data(\"Data/MSFT.csv\", ticker_name=\"MSFT\")\n",
    "amzn_df = load_stock_data(\"Data/AMZN.csv\", ticker_name=\"AMZN\")\n",
    "tsla_df = load_stock_data(\"Data/TSLA.csv\", ticker_name=\"TSLA\")\n",
    "nvda_df = load_stock_data(\"Data/NVDA.csv\", ticker_name=\"NVDA\")\n",
    "\n",
    "# Combine all into a single DataFrame\n",
    "stock_df = pd.concat([google_df, aapl_df, meta_df], ignore_index=True)\n",
    "\n",
    "# Preview\n",
    "print(\"✅ Combined stock data preview:\")\n",
    "print(stock_df.head())\n",
    "\n",
    "\n",
    "\n",
    "# Load\n",
    "news_df = load_news_data(news_path)\n",
    "# stock_df = load_stock_data(stock_path)\n",
    "\n",
    "# Align\n",
    "aligned_df = align_by_date(news_df, stock_df)\n",
    "\n",
    "# Check result\n",
    "if aligned_df is not None:\n",
    "    print(\"Aligned dataset preview:\")\n",
    "    print(aligned_df[['Date', 'headline', 'Adj Close']].head())"
   ]
  },
  {
   "cell_type": "code",
   "execution_count": 7,
   "id": "375c06bc",
   "metadata": {},
   "outputs": [
    {
     "data": {
      "text/html": [
       "<div>\n",
       "<style scoped>\n",
       "    .dataframe tbody tr th:only-of-type {\n",
       "        vertical-align: middle;\n",
       "    }\n",
       "\n",
       "    .dataframe tbody tr th {\n",
       "        vertical-align: top;\n",
       "    }\n",
       "\n",
       "    .dataframe thead th {\n",
       "        text-align: right;\n",
       "    }\n",
       "</style>\n",
       "<table border=\"1\" class=\"dataframe\">\n",
       "  <thead>\n",
       "    <tr style=\"text-align: right;\">\n",
       "      <th></th>\n",
       "      <th>Unnamed: 0</th>\n",
       "      <th>headline</th>\n",
       "      <th>url</th>\n",
       "      <th>publisher</th>\n",
       "      <th>date</th>\n",
       "      <th>stock</th>\n",
       "      <th>Date</th>\n",
       "      <th>Open</th>\n",
       "      <th>High</th>\n",
       "      <th>Low</th>\n",
       "      <th>Close</th>\n",
       "      <th>Adj Close</th>\n",
       "      <th>Volume</th>\n",
       "      <th>Dividends</th>\n",
       "      <th>Stock Splits</th>\n",
       "      <th>Ticker</th>\n",
       "    </tr>\n",
       "  </thead>\n",
       "  <tbody>\n",
       "    <tr>\n",
       "      <th>0</th>\n",
       "      <td>0</td>\n",
       "      <td>Stocks That Hit 52-Week Highs On Friday</td>\n",
       "      <td>https://www.benzinga.com/news/20/06/16190091/s...</td>\n",
       "      <td>Benzinga Insights</td>\n",
       "      <td>2020-06-05 10:30:54-04:00</td>\n",
       "      <td>A</td>\n",
       "      <td>2020-06-05</td>\n",
       "      <td>70.658501</td>\n",
       "      <td>72.252502</td>\n",
       "      <td>70.300003</td>\n",
       "      <td>71.919502</td>\n",
       "      <td>71.837753</td>\n",
       "      <td>34698000</td>\n",
       "      <td>0.0</td>\n",
       "      <td>0.0</td>\n",
       "      <td>GOOG</td>\n",
       "    </tr>\n",
       "    <tr>\n",
       "      <th>1</th>\n",
       "      <td>0</td>\n",
       "      <td>Stocks That Hit 52-Week Highs On Friday</td>\n",
       "      <td>https://www.benzinga.com/news/20/06/16190091/s...</td>\n",
       "      <td>Benzinga Insights</td>\n",
       "      <td>2020-06-05 10:30:54-04:00</td>\n",
       "      <td>A</td>\n",
       "      <td>2020-06-05</td>\n",
       "      <td>80.837502</td>\n",
       "      <td>82.937500</td>\n",
       "      <td>80.807503</td>\n",
       "      <td>82.875000</td>\n",
       "      <td>80.843407</td>\n",
       "      <td>137250400</td>\n",
       "      <td>0.0</td>\n",
       "      <td>0.0</td>\n",
       "      <td>AAPL</td>\n",
       "    </tr>\n",
       "    <tr>\n",
       "      <th>2</th>\n",
       "      <td>0</td>\n",
       "      <td>Stocks That Hit 52-Week Highs On Friday</td>\n",
       "      <td>https://www.benzinga.com/news/20/06/16190091/s...</td>\n",
       "      <td>Benzinga Insights</td>\n",
       "      <td>2020-06-05 10:30:54-04:00</td>\n",
       "      <td>A</td>\n",
       "      <td>2020-06-05</td>\n",
       "      <td>226.710007</td>\n",
       "      <td>231.350006</td>\n",
       "      <td>225.309998</td>\n",
       "      <td>230.770004</td>\n",
       "      <td>230.296753</td>\n",
       "      <td>16750400</td>\n",
       "      <td>0.0</td>\n",
       "      <td>0.0</td>\n",
       "      <td>META</td>\n",
       "    </tr>\n",
       "    <tr>\n",
       "      <th>3</th>\n",
       "      <td>1</td>\n",
       "      <td>Stocks That Hit 52-Week Highs On Wednesday</td>\n",
       "      <td>https://www.benzinga.com/news/20/06/16170189/s...</td>\n",
       "      <td>Benzinga Insights</td>\n",
       "      <td>2020-06-03 10:45:20-04:00</td>\n",
       "      <td>A</td>\n",
       "      <td>2020-06-03</td>\n",
       "      <td>71.915001</td>\n",
       "      <td>72.327599</td>\n",
       "      <td>71.488853</td>\n",
       "      <td>71.819000</td>\n",
       "      <td>71.737366</td>\n",
       "      <td>25124000</td>\n",
       "      <td>0.0</td>\n",
       "      <td>0.0</td>\n",
       "      <td>GOOG</td>\n",
       "    </tr>\n",
       "    <tr>\n",
       "      <th>4</th>\n",
       "      <td>1</td>\n",
       "      <td>Stocks That Hit 52-Week Highs On Wednesday</td>\n",
       "      <td>https://www.benzinga.com/news/20/06/16170189/s...</td>\n",
       "      <td>Benzinga Insights</td>\n",
       "      <td>2020-06-03 10:45:20-04:00</td>\n",
       "      <td>A</td>\n",
       "      <td>2020-06-03</td>\n",
       "      <td>81.165001</td>\n",
       "      <td>81.550003</td>\n",
       "      <td>80.574997</td>\n",
       "      <td>81.279999</td>\n",
       "      <td>79.287506</td>\n",
       "      <td>104491200</td>\n",
       "      <td>0.0</td>\n",
       "      <td>0.0</td>\n",
       "      <td>AAPL</td>\n",
       "    </tr>\n",
       "  </tbody>\n",
       "</table>\n",
       "</div>"
      ],
      "text/plain": [
       "   Unnamed: 0                                    headline  \\\n",
       "0           0     Stocks That Hit 52-Week Highs On Friday   \n",
       "1           0     Stocks That Hit 52-Week Highs On Friday   \n",
       "2           0     Stocks That Hit 52-Week Highs On Friday   \n",
       "3           1  Stocks That Hit 52-Week Highs On Wednesday   \n",
       "4           1  Stocks That Hit 52-Week Highs On Wednesday   \n",
       "\n",
       "                                                 url          publisher  \\\n",
       "0  https://www.benzinga.com/news/20/06/16190091/s...  Benzinga Insights   \n",
       "1  https://www.benzinga.com/news/20/06/16190091/s...  Benzinga Insights   \n",
       "2  https://www.benzinga.com/news/20/06/16190091/s...  Benzinga Insights   \n",
       "3  https://www.benzinga.com/news/20/06/16170189/s...  Benzinga Insights   \n",
       "4  https://www.benzinga.com/news/20/06/16170189/s...  Benzinga Insights   \n",
       "\n",
       "                       date stock        Date        Open        High  \\\n",
       "0 2020-06-05 10:30:54-04:00     A  2020-06-05   70.658501   72.252502   \n",
       "1 2020-06-05 10:30:54-04:00     A  2020-06-05   80.837502   82.937500   \n",
       "2 2020-06-05 10:30:54-04:00     A  2020-06-05  226.710007  231.350006   \n",
       "3 2020-06-03 10:45:20-04:00     A  2020-06-03   71.915001   72.327599   \n",
       "4 2020-06-03 10:45:20-04:00     A  2020-06-03   81.165001   81.550003   \n",
       "\n",
       "          Low       Close   Adj Close     Volume  Dividends  Stock Splits  \\\n",
       "0   70.300003   71.919502   71.837753   34698000        0.0           0.0   \n",
       "1   80.807503   82.875000   80.843407  137250400        0.0           0.0   \n",
       "2  225.309998  230.770004  230.296753   16750400        0.0           0.0   \n",
       "3   71.488853   71.819000   71.737366   25124000        0.0           0.0   \n",
       "4   80.574997   81.279999   79.287506  104491200        0.0           0.0   \n",
       "\n",
       "  Ticker  \n",
       "0   GOOG  \n",
       "1   AAPL  \n",
       "2   META  \n",
       "3   GOOG  \n",
       "4   AAPL  "
      ]
     },
     "execution_count": 7,
     "metadata": {},
     "output_type": "execute_result"
    }
   ],
   "source": [
    "aligned_df.head()"
   ]
  },
  {
   "cell_type": "markdown",
   "id": "3cfc5bef",
   "metadata": {},
   "source": [
    "**○\tSentiment Analysis**"
   ]
  },
  {
   "cell_type": "code",
   "execution_count": 9,
   "id": "afdb5015",
   "metadata": {},
   "outputs": [
    {
     "name": "stdout",
     "output_type": "stream",
     "text": [
      "                                            headline  sentiment_score  \\\n",
      "0            Stocks That Hit 52-Week Highs On Friday              0.0   \n",
      "1         Stocks That Hit 52-Week Highs On Wednesday              0.0   \n",
      "2                      71 Biggest Movers From Friday              0.0   \n",
      "3       46 Stocks Moving In Friday's Mid-Day Session              0.0   \n",
      "4  B of A Securities Maintains Neutral on Agilent...              0.0   \n",
      "\n",
      "  sentiment_label  \n",
      "0         Neutral  \n",
      "1         Neutral  \n",
      "2         Neutral  \n",
      "3         Neutral  \n",
      "4         Neutral  \n"
     ]
    }
   ],
   "source": [
    "# Load and analyze\n",
    "df = load_news('Data/raw_analyst_ratings.csv')\n",
    "\n",
    "if not df.empty:\n",
    "    result_df = sentiment_analysis(df)\n",
    "    print(result_df[['headline', 'sentiment_score', 'sentiment_label']].head())\n",
    "else:\n",
    "    print(\"Failed to load news data.\")"
   ]
  },
  {
   "cell_type": "markdown",
   "id": "30fa2612",
   "metadata": {},
   "source": [
    "**# ■\tCalculate Daily Stock Returns**"
   ]
  },
  {
   "cell_type": "code",
   "execution_count": 6,
   "id": "d7c1d32a",
   "metadata": {},
   "outputs": [
    {
     "name": "stdout",
     "output_type": "stream",
     "text": [
      "        Date     Close  daily_return\n",
      "0 1980-12-12  0.128348           NaN\n",
      "1 1980-12-15  0.121652     -0.052171\n",
      "2 1980-12-16  0.112723     -0.073398\n",
      "3 1980-12-17  0.115513      0.024751\n",
      "4 1980-12-18  0.118862      0.028992\n"
     ]
    }
   ],
   "source": [
    "from joint import calculate_daily_returns\n",
    "# Load stock data\n",
    "stock_df = pd.read_csv(\"Data/aapl.csv\")\n",
    "\n",
    "# Compute returns\n",
    "returns_df = calculate_daily_returns(stock_df)\n",
    "\n",
    "# View result\n",
    "print(returns_df[['Date', 'Close', 'daily_return']].head())\n"
   ]
  },
  {
   "cell_type": "markdown",
   "id": "63185894",
   "metadata": {},
   "source": [
    "**■\tCorrelation Analysis**"
   ]
  },
  {
   "cell_type": "code",
   "execution_count": 11,
   "id": "bcae1878",
   "metadata": {},
   "outputs": [
    {
     "ename": "NameError",
     "evalue": "name 'sentiment_df' is not defined",
     "output_type": "error",
     "traceback": [
      "\u001b[31m---------------------------------------------------------------------------\u001b[39m",
      "\u001b[31mNameError\u001b[39m                                 Traceback (most recent call last)",
      "\u001b[36mCell\u001b[39m\u001b[36m \u001b[39m\u001b[32mIn[11]\u001b[39m\u001b[32m, line 2\u001b[39m\n\u001b[32m      1\u001b[39m \u001b[38;5;28;01mfrom\u001b[39;00m\u001b[38;5;250m \u001b[39m\u001b[34;01mjoint\u001b[39;00m\u001b[38;5;250m \u001b[39m\u001b[38;5;28;01mimport\u001b[39;00m correlate_sentiment_returns\n\u001b[32m----> \u001b[39m\u001b[32m2\u001b[39m result = correlate_sentiment_returns(\u001b[43msentiment_df\u001b[49m, stock_df)\n\u001b[32m      4\u001b[39m \u001b[38;5;28;01mif\u001b[39;00m result:\n\u001b[32m      5\u001b[39m     \u001b[38;5;28mprint\u001b[39m(\u001b[33mf\u001b[39m\u001b[33m\"\u001b[39m\u001b[33mCorrelation Coefficient: \u001b[39m\u001b[38;5;132;01m{\u001b[39;00mresult[\u001b[33m'\u001b[39m\u001b[33mcorrelation_coefficient\u001b[39m\u001b[33m'\u001b[39m]\u001b[38;5;132;01m:\u001b[39;00m\u001b[33m.4f\u001b[39m\u001b[38;5;132;01m}\u001b[39;00m\u001b[33m\"\u001b[39m)\n",
      "\u001b[31mNameError\u001b[39m: name 'sentiment_df' is not defined"
     ]
    }
   ],
   "source": [
    "from joint import correlate_sentiment_returns\n",
    "result = correlate_sentiment_returns(sentiment_df, stock_df)\n",
    "\n",
    "if result:\n",
    "    print(f\"Correlation Coefficient: {result['correlation_coefficient']:.4f}\")\n",
    "    print(f\"P-Value: {result['p_value']:.4f}\")\n",
    "    print(f\"Data Points Used: {result['merged_sample_size']}\")"
   ]
  }
 ],
 "metadata": {
  "language_info": {
   "name": "python"
  }
 },
 "nbformat": 4,
 "nbformat_minor": 5
}
