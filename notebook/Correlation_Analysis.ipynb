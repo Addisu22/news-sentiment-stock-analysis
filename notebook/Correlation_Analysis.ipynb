{
 "cells": [
  {
   "cell_type": "markdown",
   "id": "c0b25dad",
   "metadata": {},
   "source": [
    "# Task-3 : Correlation between news and stock movement"
   ]
  },
  {
   "cell_type": "code",
   "execution_count": 1,
   "id": "55f7d32d",
   "metadata": {},
   "outputs": [],
   "source": [
    "import sys\n",
    "import os\n",
    "import pandas as pd\n",
    "import numpy as np\n",
    "import nbimporter\n",
    "import matplotlib.pyplot as plt\n",
    "import seaborn as sns\n",
    "from plotly.subplots import make_subplots\n",
    "import plotly.express as px\n",
    "import plotly.graph_objects as go\n",
    "import warnings\n",
    "warnings.filterwarnings('ignore')\n",
    "sys.path.append(os.path.abspath(\"../scripts\"))"
   ]
  },
  {
   "cell_type": "code",
   "execution_count": 2,
   "id": "a59841fc",
   "metadata": {},
   "outputs": [
    {
     "name": "stdout",
     "output_type": "stream",
     "text": [
      "c:\\Users\\Belay\\news-sentiment-stock-analysis\n"
     ]
    }
   ],
   "source": [
    "os.chdir('..')  # Go up a directory\n",
    "print(os.getcwd())"
   ]
  },
  {
   "cell_type": "code",
   "execution_count": 8,
   "id": "1da654a0",
   "metadata": {},
   "outputs": [],
   "source": [
    "from correlation import load_news_data, load_stock_data, align_by_date, load_news, get_sentiment_polarity, classify_sentiment, sentiment_analysis"
   ]
  },
  {
   "cell_type": "markdown",
   "id": "8a3fceaa",
   "metadata": {},
   "source": [
    "**○\tDate Alignment**"
   ]
  },
  {
   "cell_type": "markdown",
   "id": "9de667c3",
   "metadata": {},
   "source": [
    "Ensure that both datasets (news and stock prices) are aligned by dates. This might involve normalizing timestamps."
   ]
  },
  {
   "cell_type": "code",
   "execution_count": 9,
   "id": "cbc34fa0",
   "metadata": {},
   "outputs": [
    {
     "name": "stdout",
     "output_type": "stream",
     "text": [
      "✅ Combined stock data preview:\n",
      "         Date      Open      High       Low     Close  Adj Close     Volume  \\\n",
      "0  2004-08-19  2.490664  2.591785  2.390042  2.499133   2.496292  897427216   \n",
      "1  2004-08-20  2.515820  2.716817  2.503118  2.697639   2.694573  458857488   \n",
      "2  2004-08-23  2.758411  2.826406  2.716070  2.724787   2.721690  366857939   \n",
      "3  2004-08-24  2.770615  2.779581  2.579581  2.611960   2.608991  306396159   \n",
      "4  2004-08-25  2.614201  2.689918  2.587302  2.640104   2.637103  184645512   \n",
      "\n",
      "   Dividends  Stock Splits Ticker  \n",
      "0        0.0           0.0   GOOG  \n",
      "1        0.0           0.0   GOOG  \n",
      "2        0.0           0.0   GOOG  \n",
      "3        0.0           0.0   GOOG  \n",
      "4        0.0           0.0   GOOG  \n",
      "Aligned dataset preview:\n",
      "         Date                                 headline   Adj Close\n",
      "0  2020-06-05  Stocks That Hit 52-Week Highs On Friday   71.837753\n",
      "1  2020-06-05  Stocks That Hit 52-Week Highs On Friday   80.843407\n",
      "2  2020-06-05  Stocks That Hit 52-Week Highs On Friday  230.296753\n",
      "3  2020-06-05  Stocks That Hit 52-Week Highs On Friday  180.403564\n",
      "4  2020-06-05  Stocks That Hit 52-Week Highs On Friday  124.150002\n"
     ]
    }
   ],
   "source": [
    "# Function to align news and stock datasets\n",
    "news_path = 'Data/raw_analyst_ratings.csv'\n",
    "# Load individual stock files\n",
    "google_df = load_stock_data(\"Data/GOOG_historical_data.csv\", ticker_name=\"GOOG\")\n",
    "aapl_df = load_stock_data(\"Data/AAPL_historical_data.csv\", ticker_name=\"AAPL\")\n",
    "meta_df = load_stock_data(\"Data/META_historical_data.csv\", ticker_name=\"META\")\n",
    "msft_df = load_stock_data(\"Data/MSFT_historical_data.csv\", ticker_name=\"MSFT\")\n",
    "amzn_df = load_stock_data(\"Data/AMZN_historical_data.csv\", ticker_name=\"AMZN\")\n",
    "tsla_df = load_stock_data(\"Data/TSLA_historical_data.csv\", ticker_name=\"TSLA\")\n",
    "nvda_df = load_stock_data(\"Data/NVDA_historical_data.csv\", ticker_name=\"NVDA\")\n",
    "\n",
    "# Combine all into a single DataFrame\n",
    "stock_df = pd.concat([google_df, aapl_df, meta_df, msft_df, amzn_df, tsla_df,nvda_df], ignore_index=True)\n",
    "\n",
    "# Preview\n",
    "print(\"✅ Combined stock data preview:\")\n",
    "print(stock_df.head())\n",
    "\n",
    "\n",
    "\n",
    "# Load\n",
    "news_df = load_news_data(news_path)\n",
    "# stock_df = load_stock_data(stock_path)\n",
    "\n",
    "# Align\n",
    "aligned_df = align_by_date(news_df, stock_df)\n",
    "\n",
    "# Check result\n",
    "if aligned_df is not None:\n",
    "    print(\"Aligned dataset preview:\")\n",
    "    print(aligned_df[['Date', 'headline', 'Adj Close']].head())"
   ]
  },
  {
   "cell_type": "code",
   "execution_count": null,
   "id": "375c06bc",
   "metadata": {},
   "outputs": [],
   "source": [
    "aligned_df.head()"
   ]
  },
  {
   "cell_type": "markdown",
   "id": "3cfc5bef",
   "metadata": {},
   "source": [
    "**○\tSentiment Analysis**"
   ]
  },
  {
   "cell_type": "markdown",
   "id": "bcb7dd03",
   "metadata": {},
   "source": [
    "○\tSentiment Analysis: Conduct sentiment analysis on news headlines to quantify the tone of each article (positive, negative, neutral).Tools: Use Python libraries like nltk, TextBlob for sentiment analysis"
   ]
  },
  {
   "cell_type": "code",
   "execution_count": 5,
   "id": "afdb5015",
   "metadata": {},
   "outputs": [
    {
     "name": "stdout",
     "output_type": "stream",
     "text": [
      "                                            headline  sentiment_score  \\\n",
      "0            Stocks That Hit 52-Week Highs On Friday              0.0   \n",
      "1         Stocks That Hit 52-Week Highs On Wednesday              0.0   \n",
      "2                      71 Biggest Movers From Friday              0.0   \n",
      "3       46 Stocks Moving In Friday's Mid-Day Session              0.0   \n",
      "4  B of A Securities Maintains Neutral on Agilent...              0.0   \n",
      "\n",
      "  sentiment_label  \n",
      "0         Neutral  \n",
      "1         Neutral  \n",
      "2         Neutral  \n",
      "3         Neutral  \n",
      "4         Neutral  \n"
     ]
    }
   ],
   "source": [
    "# Load and analyze\n",
    "df = load_news('Data/raw_analyst_ratings.csv')\n",
    "\n",
    "if not df.empty:\n",
    "    result_df = sentiment_analysis(df)\n",
    "    print(result_df[['headline', 'sentiment_score', 'sentiment_label']].head())\n",
    "else:\n",
    "    print(\"Failed to load news data.\")"
   ]
  },
  {
   "cell_type": "markdown",
   "id": "30fa2612",
   "metadata": {},
   "source": [
    "**# ■\tCalculate Daily Stock Returns**"
   ]
  },
  {
   "cell_type": "markdown",
   "id": "bd7bbe06",
   "metadata": {},
   "source": [
    "■\tCalculate Daily Stock Returns: Compute the percentage change in daily closing prices to represent stock movements."
   ]
  },
  {
   "cell_type": "code",
   "execution_count": 14,
   "id": "d7c1d32a",
   "metadata": {},
   "outputs": [
    {
     "name": "stdout",
     "output_type": "stream",
     "text": [
      "AAPL returns:\n",
      "GOOG returns:\n",
      "MSFT returns:\n",
      "AMZN returns:\n",
      "TSLA returns:\n",
      "NVDA returns:\n",
      "META returns:\n"
     ]
    }
   ],
   "source": [
    "from correlation import calculate_daily_returns\n",
    "# Load stock data\n",
    "tickers = ['AAPL', 'GOOG', 'MSFT', 'AMZN', 'TSLA', 'NVDA', 'META']\n",
    "\n",
    "for ticker in tickers:\n",
    "    file_path = f'Data/{ticker}_historical_data.csv'\n",
    "    stock_df = pd.read_csv(file_path)\n",
    "    result_df = calculate_daily_returns(stock_df)\n",
    "    print(f\"{ticker} returns:\")\n",
    "    # print(result_df[['Date', 'daily_return']].head())\n",
    "\n"
   ]
  },
  {
   "cell_type": "markdown",
   "id": "63185894",
   "metadata": {},
   "source": [
    "**■\tCorrelation Analysis**"
   ]
  },
  {
   "cell_type": "code",
   "execution_count": 16,
   "id": "bcae1878",
   "metadata": {},
   "outputs": [],
   "source": [
    "# from correlation import correlate_sentiment_returns\n",
    "# result = correlate_sentiment_returns(sentiment_df, stock_df)\n",
    "\n",
    "# if result:\n",
    "#     print(f\"Correlation Coefficient: {result['correlation_coefficient']:.4f}\")\n",
    "#     print(f\"P-Value: {result['p_value']:.4f}\")\n",
    "#     print(f\"Data Points Used: {result['merged_sample_size']}\")"
   ]
  }
 ],
 "metadata": {
  "kernelspec": {
   "display_name": ".venv",
   "language": "python",
   "name": "python3"
  },
  "language_info": {
   "codemirror_mode": {
    "name": "ipython",
    "version": 3
   },
   "file_extension": ".py",
   "mimetype": "text/x-python",
   "name": "python",
   "nbconvert_exporter": "python",
   "pygments_lexer": "ipython3",
   "version": "3.11.0"
  }
 },
 "nbformat": 4,
 "nbformat_minor": 5
}
