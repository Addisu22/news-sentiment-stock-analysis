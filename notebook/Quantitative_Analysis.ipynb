{
 "cells": [
  {
   "cell_type": "markdown",
   "id": "29ea91f3",
   "metadata": {},
   "source": []
  },
  {
   "cell_type": "markdown",
   "id": "6d375785",
   "metadata": {},
   "source": []
  },
  {
   "cell_type": "code",
   "execution_count": null,
   "id": "abdc7847",
   "metadata": {},
   "outputs": [],
   "source": []
  },
  {
   "cell_type": "code",
   "execution_count": 50,
   "id": "4e259a1a",
   "metadata": {},
   "outputs": [],
   "source": [
    "# %pip install nbimporter\n",
    "# %pip install nbformat\n",
    "# %pip install jupyter"
   ]
  },
  {
   "cell_type": "code",
   "execution_count": 41,
   "id": "6c0f7044",
   "metadata": {},
   "outputs": [],
   "source": [
    "import sys\n",
    "import os\n",
    "import pandas as pd\n",
    "import numpy as np\n",
    "# import matplotlib.pyplot as plt\n",
    "# import seaborn as sns"
   ]
  },
  {
   "cell_type": "code",
   "execution_count": 59,
   "id": "034f1900",
   "metadata": {},
   "outputs": [
    {
     "ename": "SyntaxError",
     "evalue": "invalid syntax (2558099361.py, line 1)",
     "output_type": "error",
     "traceback": [
      "  \u001b[36mCell\u001b[39m\u001b[36m \u001b[39m\u001b[32mIn[59]\u001b[39m\u001b[32m, line 1\u001b[39m\n\u001b[31m    \u001b[39m\u001b[31mjupyter nbconvert --to script quantative.ipynb\u001b[39m\n            ^\n\u001b[31mSyntaxError\u001b[39m\u001b[31m:\u001b[39m invalid syntax\n"
     ]
    }
   ],
   "source": [
    "jupyter nbconvert --to script quantative.ipynb"
   ]
  },
  {
   "cell_type": "code",
   "execution_count": 62,
   "id": "1a5f7be8",
   "metadata": {},
   "outputs": [
    {
     "ename": "ModuleNotFoundError",
     "evalue": "No module named 'quantative'",
     "output_type": "error",
     "traceback": [
      "\u001b[31m---------------------------------------------------------------------------\u001b[39m",
      "\u001b[31mModuleNotFoundError\u001b[39m                       Traceback (most recent call last)",
      "\u001b[36mCell\u001b[39m\u001b[36m \u001b[39m\u001b[32mIn[62]\u001b[39m\u001b[32m, line 6\u001b[39m\n\u001b[32m      1\u001b[39m \u001b[38;5;66;03m# notebook/analysis.ipynb\u001b[39;00m\n\u001b[32m      2\u001b[39m \n\u001b[32m      3\u001b[39m \u001b[38;5;66;03m# sys.path.append(os.path.abspath(\"../scripts\"))\u001b[39;00m\n\u001b[32m      4\u001b[39m \u001b[38;5;66;03m# from quantative import load_data\u001b[39;00m\n\u001b[32m      5\u001b[39m \u001b[38;5;28;01mimport\u001b[39;00m\u001b[38;5;250m \u001b[39m\u001b[34;01mnbimporter\u001b[39;00m\n\u001b[32m----> \u001b[39m\u001b[32m6\u001b[39m \u001b[38;5;28;01mfrom\u001b[39;00m\u001b[38;5;250m \u001b[39m\u001b[34;01mquantative\u001b[39;00m\u001b[34;01m.\u001b[39;00m\u001b[34;01mipynb\u001b[39;00m\u001b[38;5;250m \u001b[39m\u001b[38;5;28;01mimport\u001b[39;00m load_data \u001b[38;5;66;03m# type: ignore\u001b[39;00m\n\u001b[32m      8\u001b[39m \u001b[38;5;66;03m# File paths relative to notebook\u001b[39;00m\n\u001b[32m      9\u001b[39m file_paths = [\u001b[33m\"\u001b[39m\u001b[33mData/AAPL_historical_data.csv\u001b[39m\u001b[33m\"\u001b[39m, \u001b[33m\"\u001b[39m\u001b[33mData/AMZN_historical_data.csv\u001b[39m\u001b[33m\"\u001b[39m,\u001b[33m\"\u001b[39m\u001b[33mData/GOOG_historical_data.csv\u001b[39m\u001b[33m\"\u001b[39m,\n\u001b[32m     10\u001b[39m     \u001b[33m\"\u001b[39m\u001b[33mData/META_historical_data.csv\u001b[39m\u001b[33m\"\u001b[39m, \u001b[33m\"\u001b[39m\u001b[33mData/MSFT_historical_data.csv\u001b[39m\u001b[33m\"\u001b[39m,\u001b[33m\"\u001b[39m\u001b[33mData/NVDA_historical_data.csv\u001b[39m\u001b[33m\"\u001b[39m,\u001b[33m\"\u001b[39m\u001b[33mData/TSLA_historical_data.csv\u001b[39m\u001b[33m\"\u001b[39m\n\u001b[32m     11\u001b[39m ]\n",
      "\u001b[31mModuleNotFoundError\u001b[39m: No module named 'quantative'"
     ]
    }
   ],
   "source": [
    "# notebook/analysis.ipynb\n",
    "\n",
    "# sys.path.append(os.path.abspath(\"../scripts\"))\n",
    "# from quantative import load_data\n",
    "import nbimporter\n",
    "from quantative.ipynb import load_data # type: ignore\n",
    "\n",
    "# File paths relative to notebook\n",
    "file_paths = [\"Data/AAPL_historical_data.csv\", \"Data/AMZN_historical_data.csv\",\"Data/GOOG_historical_data.csv\",\n",
    "    \"Data/META_historical_data.csv\", \"Data/MSFT_historical_data.csv\",\"Data/NVDA_historical_data.csv\",\"Data/TSLA_historical_data.csv\"\n",
    "]\n",
    "\n",
    "# Load combined DataFrame with Date as index and ticker names as columns\n",
    "adj_df = load_data(file_paths)\n",
    "\n",
    "# Display the structure\n",
    "print(adj_df.head())\n"
   ]
  }
 ],
 "metadata": {
  "kernelspec": {
   "display_name": ".venv",
   "language": "python",
   "name": "python3"
  },
  "language_info": {
   "codemirror_mode": {
    "name": "ipython",
    "version": 3
   },
   "file_extension": ".py",
   "mimetype": "text/x-python",
   "name": "python",
   "nbconvert_exporter": "python",
   "pygments_lexer": "ipython3",
   "version": "3.11.0"
  }
 },
 "nbformat": 4,
 "nbformat_minor": 5
}
