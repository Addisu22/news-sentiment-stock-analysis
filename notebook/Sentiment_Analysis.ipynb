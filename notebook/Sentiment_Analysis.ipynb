{
 "cells": [
  {
   "cell_type": "markdown",
   "id": "18e0d2f8",
   "metadata": {},
   "source": []
  },
  {
   "cell_type": "markdown",
   "id": "32cc31ca",
   "metadata": {},
   "source": [
    "Task-1"
   ]
  },
  {
   "cell_type": "code",
   "execution_count": 17,
   "id": "25eca84f",
   "metadata": {},
   "outputs": [],
   "source": [
    "# %pip install --upgrade --force-reinstall regex\n",
    "# %pip install --upgrade --force-reinstall nltk textblob\n",
    "# %pip uninstall textblob\n",
    "# %pip install scikit-learn"
   ]
  },
  {
   "cell_type": "code",
   "execution_count": 1,
   "id": "412d818b",
   "metadata": {},
   "outputs": [],
   "source": [
    "import sys\n",
    "import os\n",
    "import pandas as pd\n",
    "import numpy as np\n",
    "import matplotlib.pyplot as plt\n",
    "import textblob as tb\n",
    "import seaborn as sns\n",
    "from sklearn.feature_extraction.text import CountVectorizer\n",
    "from sklearn.decomposition import LatentDirichletAllocation\n",
    "\n",
    "import warnings\n",
    "warnings.filterwarnings('ignore')\n",
    "sys.path.append(os.path.abspath(\"../scripts\"))"
   ]
  },
  {
   "cell_type": "code",
   "execution_count": 3,
   "id": "8d88231e",
   "metadata": {},
   "outputs": [],
   "source": [
    "os.chdir('..')  # Go up a directory\n",
    "# print(os.getcwd())"
   ]
  },
  {
   "cell_type": "markdown",
   "id": "8b8f1f95",
   "metadata": {},
   "source": [
    "○\tDescriptive Statistics"
   ]
  },
  {
   "cell_type": "markdown",
   "id": "c407d4da",
   "metadata": {},
   "source": [
    "■\tObtain basic statistics for textual lengths (like headline length)."
   ]
  },
  {
   "cell_type": "code",
   "execution_count": 10,
   "id": "2f6686a2",
   "metadata": {},
   "outputs": [
    {
     "name": "stdout",
     "output_type": "stream",
     "text": [
      "Headline Length Stats:\n",
      "=======================\n",
      " count    55987.000000\n",
      "mean        80.015254\n",
      "std         56.126094\n",
      "min         12.000000\n",
      "25%         42.000000\n",
      "50%         63.000000\n",
      "75%         91.000000\n",
      "max        512.000000\n",
      "Name: headline_length, dtype: float64\n"
     ]
    }
   ],
   "source": [
    "from sentiment import load_data, headline_length_stats, count_articles_per_publisher, publication_trend\n",
    "# Load your data safely\n",
    "try:\n",
    "    news_df = load_data('Data/raw_analyst_ratings.csv')\n",
    "except Exception as e:\n",
    "    print(f\"Error loading CSV: {e}\")\n",
    "    news_df = None\n",
    "\n",
    "if news_df is not None:\n",
    "    # Obtain basic statistics for textual lengths   \n",
    "    print(\"Headline Length Stats:\",)\n",
    "    print('=======================\\n',headline_length_stats(news_df))"
   ]
  },
  {
   "cell_type": "markdown",
   "id": "c4b31366",
   "metadata": {},
   "source": [
    "■\tCount the number of articles per publisher to identify which publishers are most active."
   ]
  },
  {
   "cell_type": "code",
   "execution_count": 11,
   "id": "10a82dd2",
   "metadata": {},
   "outputs": [
    {
     "name": "stdout",
     "output_type": "stream",
     "text": [
      "Articles per Publisher:\n",
      "===================\n",
      " publisher\n",
      "Benzinga Newsdesk    14750\n",
      "Lisa Levin           12408\n",
      "ETF Professor         4362\n",
      "Paul Quintaro         4212\n",
      "Benzinga Newsdesk     3177\n",
      "                     ...  \n",
      "Jennifer Lynn            1\n",
      "Tatro Capital            1\n",
      "webmaster                1\n",
      "Thomas Stein             1\n",
      "Usman Rafi               1\n",
      "Name: count, Length: 225, dtype: int64 \n",
      "\n"
     ]
    }
   ],
   "source": [
    "    # Count Articles per Publisher\n",
    "print(\"Articles per Publisher:\",)\n",
    "print(\"===================\\n\", count_articles_per_publisher(news_df), \"\\n\")"
   ]
  },
  {
   "cell_type": "markdown",
   "id": "4e8c2004",
   "metadata": {},
   "source": [
    "■\tAnalyze the publication dates to see trends over time, such as increased news frequency on particular days or during specific events."
   ]
  },
  {
   "cell_type": "code",
   "execution_count": 12,
   "id": "7b056ef6",
   "metadata": {},
   "outputs": [
    {
     "name": "stdout",
     "output_type": "stream",
     "text": [
      "Publication Trend (daily:\n",
      "=========================== date\n",
      "2011-04-27      1\n",
      "2011-04-28      2\n",
      "2011-04-29      2\n",
      "2011-04-30      1\n",
      "2011-05-01      1\n",
      "             ... \n",
      "2020-06-07     25\n",
      "2020-06-08    765\n",
      "2020-06-09    804\n",
      "2020-06-10    806\n",
      "2020-06-11    544\n",
      "Name: article_count, Length: 2528, dtype: int64\n"
     ]
    }
   ],
   "source": [
    "\n",
    "    # Analyze the publication dates to see trends over time\n",
    "print(\"Publication Trend (daily:\")\n",
    "print(\"===========================\", publication_trend(news_df, freq='D'))"
   ]
  },
  {
   "cell_type": "markdown",
   "id": "fa8318a6",
   "metadata": {},
   "source": [
    "○\tText Analysis(Topic Modeling):"
   ]
  },
  {
   "cell_type": "markdown",
   "id": "56d67c8d",
   "metadata": {},
   "source": [
    "■\tUse natural language processing to identify common keywords or phrases, potentially extracting topics or significant events (like \"FDA approval\", \"price target\", etc.)."
   ]
  },
  {
   "cell_type": "code",
   "execution_count": 13,
   "id": "0396e44a",
   "metadata": {},
   "outputs": [
    {
     "name": "stdout",
     "output_type": "stream",
     "text": [
      "\n",
      "🔍 Discovered Topics:\n",
      "Topic 1: price, target, maintains, raises, lowers, buy, downgrades\n",
      "Topic 2: stocks, session, moving, new, week, set, low\n",
      "Topic 3: week, stocks, hit, trading, shares, companies, lows\n",
      "Topic 4: shares, update, market, earnings, announces, reports, share\n",
      "Topic 5: eps, sales, estimate, vs, yoy, biggest, movers\n"
     ]
    }
   ],
   "source": [
    "from sentiment import preprocess_text, extract_topics\n",
    "# Load the dataset\n",
    "try:\n",
    "    news_df = load_data('Data/raw_analyst_ratings.csv')\n",
    "except Exception as e:\n",
    "    print(f\"Error loading dataset: {e}\")\n",
    "    news_df = None\n",
    "\n",
    "# Process and extract topics\n",
    "if news_df is not None:\n",
    "    clean_df = preprocess_text(news_df, text_col='headline')\n",
    "    if clean_df is not None:\n",
    "        topics = extract_topics(clean_df, text_col='headline', num_topics=5, num_words=7)\n",
    "        if topics:\n",
    "            print(\"\\n🔍 Discovered Topics:\")\n",
    "            for topic in topics:\n",
    "                print(topic)"
   ]
  },
  {
   "cell_type": "markdown",
   "id": "6a802ef6",
   "metadata": {},
   "source": [
    "○\tTime Series Analysis"
   ]
  },
  {
   "cell_type": "markdown",
   "id": "5de4e72f",
   "metadata": {},
   "source": [
    "■\tHow does the publication frequency vary over time? Are there spikes in article publications related to specific market events?"
   ]
  },
  {
   "cell_type": "markdown",
   "id": "0c2d7175",
   "metadata": {},
   "source": [
    "■\tAnalysis of publishing times might reveal if there’s a specific time when most news is released, which could be crucial for traders and automated trading systems."
   ]
  },
  {
   "cell_type": "code",
   "execution_count": 4,
   "id": "5a4a385f",
   "metadata": {},
   "outputs": [
    {
     "data": {
      "image/png": "[encoded data removed]",
      "text/plain": [
       "<Figure size 1200x500 with 1 Axes>"
      ]
     },
     "metadata": {},
     "output_type": "display_data"
    },
    {
     "name": "stdout",
     "output_type": "stream",
     "text": [
      "Error in publishing time analysis: unsupported operand type(s) for +: 'DatetimeArray' and 'str'\n",
      "Daily Article Counts:\n",
      " date\n",
      "2011-04-27      1\n",
      "2011-04-28      2\n",
      "2011-04-29      2\n",
      "2011-04-30      1\n",
      "2011-05-01      1\n",
      "             ... \n",
      "2020-06-07     25\n",
      "2020-06-08    765\n",
      "2020-06-09    804\n",
      "2020-06-10    806\n",
      "2020-06-11    544\n",
      "Name: count, Length: 2528, dtype: int64\n",
      "\n",
      "Articles by Day of Week:\n",
      " day_of_week\n",
      "Thursday     12688\n",
      "Wednesday    11891\n",
      "Tuesday      11002\n",
      "Monday       10322\n",
      "Friday        9381\n",
      "Sunday         436\n",
      "Saturday       267\n",
      "Name: count, dtype: int64\n"
     ]
    }
   ],
   "source": [
    "from sentiment import analyze_publication_frequency, analyze_publishing_time, daily_article_counts, day_of_week_analysis\n",
    "# Load your dataset\n",
    "news_df = load_data('Data/raw_analyst_ratings.csv')\n",
    "\n",
    "if news_df is not None:\n",
    "    # Analyze publication frequency\n",
    "    daily_freq = analyze_publication_frequency(news_df)\n",
    "\n",
    "    # Analyze publishing time\n",
    "    hourly_freq = analyze_publishing_time(news_df)\n",
    "\n",
    "\n",
    "if news_df is not None:\n",
    "    print(\"Daily Article Counts:\\n\", daily_article_counts(news_df))\n",
    "    print(\"\\nArticles by Day of Week:\\n\", day_of_week_analysis(news_df))"
   ]
  },
  {
   "cell_type": "markdown",
   "id": "aa5eb773",
   "metadata": {},
   "source": [
    "○\tPublisher Analysis"
   ]
  },
  {
   "cell_type": "markdown",
   "id": "992ffd82",
   "metadata": {},
   "source": [
    "■\tWhich publishers contribute most to the news feed? Is there a difference in the type of news they report?"
   ]
  },
  {
   "cell_type": "code",
   "execution_count": 15,
   "id": "d04f765a",
   "metadata": {},
   "outputs": [
    {
     "name": "stdout",
     "output_type": "stream",
     "text": [
      "Top Publishers:\n",
      " publisher\n",
      "Benzinga Newsdesk    14750\n",
      "Lisa Levin           12408\n",
      "ETF Professor         4362\n",
      "Paul Quintaro         4212\n",
      "Benzinga Newsdesk     3177\n",
      "Benzinga Insights     2332\n",
      "Vick Meyer            2128\n",
      "Charles Gross         1790\n",
      "Hal Lindon            1470\n",
      "Benzinga_Newsdesk     1239\n",
      "Name: count, dtype: int64\n"
     ]
    }
   ],
   "source": [
    "from sentiment import top_publishers, extract_email_domains\n",
    "# Load the dataset\n",
    "news_df = load_data('Data/raw_analyst_ratings.csv')\n",
    "\n",
    "if news_df is not None:\n",
    "    # Get top publishers\n",
    "    print(\"Top Publishers:\\n\", top_publishers(news_df))"
   ]
  },
  {
   "cell_type": "markdown",
   "id": "a4b65d16",
   "metadata": {},
   "source": [
    "■\tIf email addresses are used as publisher names, identify unique domains to see if certain organizations contribute more frequently."
   ]
  },
  {
   "cell_type": "code",
   "execution_count": 17,
   "id": "3c8efafc",
   "metadata": {},
   "outputs": [
    {
     "name": "stdout",
     "output_type": "stream",
     "text": [
      "Top Email Domains\n",
      "=================:\n",
      " benzinga.com    1196\n",
      "gmail.com          3\n",
      "dtype: int64\n"
     ]
    }
   ],
   "source": [
    "   # Get email domains (if used)\n",
    "print(\"Top Email Domains\")\n",
    "print(\"=================:\\n\", extract_email_domains(news_df))"
   ]
  }
 ],
 "metadata": {
  "kernelspec": {
   "display_name": ".venv",
   "language": "python",
   "name": "python3"
  },
  "language_info": {
   "codemirror_mode": {
    "name": "ipython",
    "version": 3
   },
   "file_extension": ".py",
   "mimetype": "text/x-python",
   "name": "python",
   "nbconvert_exporter": "python",
   "pygments_lexer": "ipython3",
   "version": "3.11.0"
  }
 },
 "nbformat": 4,
 "nbformat_minor": 5
}
