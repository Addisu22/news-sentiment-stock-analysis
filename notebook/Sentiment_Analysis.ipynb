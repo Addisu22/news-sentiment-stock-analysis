{
 "cells": [
  {
   "cell_type": "markdown",
   "id": "f792f0a3",
   "metadata": {},
   "source": []
  },
  {
   "cell_type": "markdown",
   "id": "18e0d2f8",
   "metadata": {},
   "source": []
  },
  {
   "cell_type": "code",
   "execution_count": 8,
   "id": "25eca84f",
   "metadata": {},
   "outputs": [
    {
     "name": "stdout",
     "output_type": "stream",
     "text": [
      "^C\n",
      "Note: you may need to restart the kernel to use updated packages.\n"
     ]
    }
   ],
   "source": [
    "# %pip install --upgrade --force-reinstall regex\n",
    "# %pip install --upgrade --force-reinstall nltk textblob\n",
    "%pip uninstall textblob"
   ]
  },
  {
   "cell_type": "code",
   "execution_count": 9,
   "id": "412d818b",
   "metadata": {},
   "outputs": [],
   "source": [
    "import sys\n",
    "import os\n",
    "import pandas as pd\n",
    "import numpy as np\n",
    "import nbimporter\n",
    "import matplotlib.pyplot as plt\n",
    "import seaborn as sns\n",
    "# import textblob as tb\n",
    "import warnings\n",
    "warnings.filterwarnings('ignore')"
   ]
  }
 ],
 "metadata": {
  "kernelspec": {
   "display_name": ".venv",
   "language": "python",
   "name": "python3"
  },
  "language_info": {
   "codemirror_mode": {
    "name": "ipython",
    "version": 3
   },
   "file_extension": ".py",
   "mimetype": "text/x-python",
   "name": "python",
   "nbconvert_exporter": "python",
   "pygments_lexer": "ipython3",
   "version": "3.11.0"
  }
 },
 "nbformat": 4,
 "nbformat_minor": 5
}
